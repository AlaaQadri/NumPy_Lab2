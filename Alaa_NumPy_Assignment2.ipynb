{
  "cells": [
    {
      "cell_type": "markdown",
      "id": "5ffb93ae",
      "metadata": {
        "id": "5ffb93ae"
      },
      "source": [
        "# Q1: Import numpy library"
      ]
    },
    {
      "cell_type": "code",
      "execution_count": 1,
      "id": "936d4703",
      "metadata": {
        "id": "936d4703"
      },
      "outputs": [],
      "source": [
        "import numpy as np"
      ]
    },
    {
      "cell_type": "markdown",
      "id": "b6991a89",
      "metadata": {
        "id": "b6991a89"
      },
      "source": [
        "# Q2: Generate a sequence of 15 floats using linspace() function"
      ]
    },
    {
      "cell_type": "code",
      "execution_count": 2,
      "id": "43bf04a5",
      "metadata": {
        "id": "43bf04a5",
        "outputId": "655a8280-73bc-47bc-ddd5-56866bf971eb",
        "colab": {
          "base_uri": "https://localhost:8080/"
        }
      },
      "outputs": [
        {
          "output_type": "execute_result",
          "data": {
            "text/plain": [
              "array([ 0.        ,  0.71428571,  1.42857143,  2.14285714,  2.85714286,\n",
              "        3.57142857,  4.28571429,  5.        ,  5.71428571,  6.42857143,\n",
              "        7.14285714,  7.85714286,  8.57142857,  9.28571429, 10.        ])"
            ]
          },
          "metadata": {},
          "execution_count": 2
        }
      ],
      "source": [
        "np.linspace(start = 0, stop = 10, num = 15)"
      ]
    },
    {
      "cell_type": "markdown",
      "id": "7144bba8",
      "metadata": {
        "id": "7144bba8"
      },
      "source": [
        "# Q3: Create a 3-D array in shape (2, 2, 3) containing the four arrays given below \n",
        "Note : the array's name is up to you.\n",
        "\n",
        "|      |       |          |         |\n",
        "|------| ----- | -------- | ------- |\n",
        "|arr1 | 1.1    | 2.1       | 3.1        |\n",
        "|arr2 | 4.1    | 5.1       | 6.1        |\n",
        "|arr3 | 7.1    | 8.1       | 9.1        |\n",
        "|arr4 | 10.1   | 11.1      | 12.1       |"
      ]
    },
    {
      "cell_type": "code",
      "execution_count": 3,
      "id": "c1c3f9dc",
      "metadata": {
        "id": "c1c3f9dc",
        "outputId": "7bfacc5d-e400-4482-cbb9-9099a85e80f6",
        "colab": {
          "base_uri": "https://localhost:8080/"
        }
      },
      "outputs": [
        {
          "output_type": "stream",
          "name": "stdout",
          "text": [
            "Array:\n",
            "[[[ 1.1  2.1  3.1]\n",
            "  [ 4.1  5.1  6.1]]\n",
            "\n",
            " [[ 7.1  8.1  9.1]\n",
            "  [10.1 11.1 12.1]]]\n",
            "the shape is:  (2, 2, 3)\n"
          ]
        }
      ],
      "source": [
        "import numpy as np  \n",
        "nums = np.array([[[1.1,2.1,3.1],   \n",
        "                   [4.1,5.1,6.1]],\n",
        "                 \n",
        "                   [[7.1,8.1,9.1],\n",
        "                   [10.1,11.1,12.1]]]) \n",
        "print(\"Array:\")\n",
        "print(nums)\n",
        "print(\"the shape is: \",nums.shape)\n"
      ]
    },
    {
      "cell_type": "markdown",
      "id": "807acbf6",
      "metadata": {
        "id": "807acbf6"
      },
      "source": [
        "# Q4: Print the following:\n",
        "Note: use the same array from Q3.\n",
        "- Array's type.\n",
        "- Array's elements datatype.\n",
        "- Array's shape.\n",
        "- Array's size.\n",
        "- Array's dimention."
      ]
    },
    {
      "cell_type": "code",
      "source": [
        "print('type = ', nums.dtype)\n",
        "print('number of dimensions = ', nums.ndim)\n",
        "print('shape = ', nums.shape)\n",
        "print('size = ', nums.size)"
      ],
      "metadata": {
        "id": "AfFhbt9lBKsx",
        "outputId": "c7e01e73-7a12-4c71-97b5-afd691cff4cd",
        "colab": {
          "base_uri": "https://localhost:8080/"
        }
      },
      "id": "AfFhbt9lBKsx",
      "execution_count": 4,
      "outputs": [
        {
          "output_type": "stream",
          "name": "stdout",
          "text": [
            "type =  float64\n",
            "number of dimensions =  3\n",
            "shape =  (2, 2, 3)\n",
            "size =  12\n"
          ]
        }
      ]
    },
    {
      "cell_type": "markdown",
      "id": "db4958b5",
      "metadata": {
        "id": "db4958b5"
      },
      "source": [
        "# Q5:  Change the array dimention from 3-D to 4-D\n",
        "Note: use the same array from Q3.\n",
        "- Create a new array to hold the changes. \n",
        "- Print the new array's dimention and shape."
      ]
    },
    {
      "cell_type": "code",
      "execution_count": 5,
      "id": "e9f5c88c",
      "metadata": {
        "id": "e9f5c88c",
        "outputId": "98a87e10-e38e-4811-960c-323b0f23927a",
        "colab": {
          "base_uri": "https://localhost:8080/"
        }
      },
      "outputs": [
        {
          "output_type": "execute_result",
          "data": {
            "text/plain": [
              "array([[[[ 1.1,  2.1,  3.1],\n",
              "         [ 4.1,  5.1,  6.1]],\n",
              "\n",
              "        [[ 7.1,  8.1,  9.1],\n",
              "         [10.1, 11.1, 12.1]]]])"
            ]
          },
          "metadata": {},
          "execution_count": 5
        }
      ],
      "source": [
        "newarray= np.expand_dims(nums,axis=0)\n",
        "newarray"
      ]
    },
    {
      "cell_type": "code",
      "source": [
        "print(\"The new diminsion is: \",newarray.ndim)\n",
        "print(\"The new shape is: \",newarray.shape)"
      ],
      "metadata": {
        "id": "i2J64ZiCQBY_",
        "outputId": "92be06be-4ced-448c-c825-690561607611",
        "colab": {
          "base_uri": "https://localhost:8080/"
        }
      },
      "id": "i2J64ZiCQBY_",
      "execution_count": 6,
      "outputs": [
        {
          "output_type": "stream",
          "name": "stdout",
          "text": [
            "The new diminsion is:  4\n",
            "The new shape is:  (1, 2, 2, 3)\n"
          ]
        }
      ]
    },
    {
      "cell_type": "markdown",
      "id": "454f2504",
      "metadata": {
        "id": "454f2504"
      },
      "source": [
        "# Q6: Change the array's elements datatype to integer  \n",
        "Note: use the same array from Q5.\n",
        "\n",
        "- Create a new array to hold the changes. \n",
        "- Print the new array."
      ]
    },
    {
      "cell_type": "code",
      "execution_count": 7,
      "id": "8135b045",
      "metadata": {
        "id": "8135b045",
        "outputId": "05bd9055-3258-4eed-f550-b025f1914a38",
        "colab": {
          "base_uri": "https://localhost:8080/"
        }
      },
      "outputs": [
        {
          "output_type": "execute_result",
          "data": {
            "text/plain": [
              "dtype('int64')"
            ]
          },
          "metadata": {},
          "execution_count": 7
        }
      ],
      "source": [
        "xx = newarray.astype(int)\n",
        "xx.dtype"
      ]
    },
    {
      "cell_type": "code",
      "source": [
        "xx"
      ],
      "metadata": {
        "id": "WfMl9f-vWuKw",
        "outputId": "05fdf787-7d46-4bc4-a6e2-c790df49a027",
        "colab": {
          "base_uri": "https://localhost:8080/"
        }
      },
      "id": "WfMl9f-vWuKw",
      "execution_count": 8,
      "outputs": [
        {
          "output_type": "execute_result",
          "data": {
            "text/plain": [
              "array([[[[ 1,  2,  3],\n",
              "         [ 4,  5,  6]],\n",
              "\n",
              "        [[ 7,  8,  9],\n",
              "         [10, 11, 12]]]])"
            ]
          },
          "metadata": {},
          "execution_count": 8
        }
      ]
    },
    {
      "cell_type": "markdown",
      "id": "ab90badc",
      "metadata": {
        "id": "ab90badc"
      },
      "source": [
        "# Q7: Print all array's elements using for loop\n",
        "Note: use the same array from Q6.\n",
        "\n",
        "Hint: use nditer()"
      ]
    },
    {
      "cell_type": "code",
      "execution_count": 9,
      "id": "a0d58d15",
      "metadata": {
        "id": "a0d58d15",
        "outputId": "d0075a7f-2892-4c97-be43-30a5518fcf54",
        "colab": {
          "base_uri": "https://localhost:8080/"
        }
      },
      "outputs": [
        {
          "output_type": "stream",
          "name": "stdout",
          "text": [
            "1 2 3 4 5 6 7 8 9 10 11 12 "
          ]
        }
      ],
      "source": [
        "for element in np.nditer(xx):\n",
        "    print(element, end=' ')"
      ]
    },
    {
      "cell_type": "markdown",
      "id": "afa8b5f3",
      "metadata": {
        "id": "afa8b5f3"
      },
      "source": [
        "# Q8:  Print number 8 using array slicing\n",
        "Note: use the same array from Q6."
      ]
    },
    {
      "cell_type": "code",
      "execution_count": 10,
      "id": "6e12e2d7",
      "metadata": {
        "id": "6e12e2d7",
        "outputId": "228c4805-6ff3-44e6-f606-3304a837abe9",
        "colab": {
          "base_uri": "https://localhost:8080/"
        }
      },
      "outputs": [
        {
          "output_type": "execute_result",
          "data": {
            "text/plain": [
              "array([8])"
            ]
          },
          "metadata": {},
          "execution_count": 10
        }
      ],
      "source": [
        "xx[:3,1,0,1]"
      ]
    },
    {
      "cell_type": "markdown",
      "id": "e2e71895",
      "metadata": {
        "id": "e2e71895"
      },
      "source": [
        "# Q9: Print number 5 and number 6 using array slicing\n",
        "Note: use the same array from Q6."
      ]
    },
    {
      "cell_type": "code",
      "execution_count": 11,
      "id": "c3218bcb",
      "metadata": {
        "id": "c3218bcb",
        "outputId": "a310f9ff-87ff-4a1b-9c87-89646f8b51cb",
        "colab": {
          "base_uri": "https://localhost:8080/"
        }
      },
      "outputs": [
        {
          "output_type": "execute_result",
          "data": {
            "text/plain": [
              "array([[5, 6]])"
            ]
          },
          "metadata": {},
          "execution_count": 11
        }
      ],
      "source": [
        "xx[:,0,1,1:]"
      ]
    },
    {
      "cell_type": "markdown",
      "id": "e5d63cd3",
      "metadata": {
        "id": "e5d63cd3"
      },
      "source": [
        "# Q10: Search for number 8 using where()\n",
        "Note: use the same array from Q6.\n",
        "\n",
        "Note: where() is only used with small data.\n",
        "\n",
        "*the output represents the path of the index that leads to number 8*"
      ]
    },
    {
      "cell_type": "code",
      "execution_count": 12,
      "id": "ddaf0146",
      "metadata": {
        "id": "ddaf0146",
        "outputId": "63dde42f-bfdc-4b0a-880d-721e1ebc7c94",
        "colab": {
          "base_uri": "https://localhost:8080/"
        }
      },
      "outputs": [
        {
          "output_type": "execute_result",
          "data": {
            "text/plain": [
              "(array([0]), array([1]), array([0]), array([1]))"
            ]
          },
          "metadata": {},
          "execution_count": 12
        }
      ],
      "source": [
        "x = np.where(xx==8)\n",
        "x"
      ]
    },
    {
      "cell_type": "markdown",
      "id": "c89f41ad",
      "metadata": {
        "id": "c89f41ad"
      },
      "source": [
        "# Q11: Reshape the array as the following\n",
        "\n",
        "    array([[[ 1, 2],\n",
        "            [ 3,  4],\n",
        "            [ 5,  6]],\n",
        "\n",
        "           [[ 7,  8],\n",
        "            [ 9, 10],\n",
        "            [11, 12]]])\n",
        "            \n",
        " Note: use the same array from Q6."
      ]
    },
    {
      "cell_type": "code",
      "execution_count": 13,
      "id": "d9b632bd",
      "metadata": {
        "id": "d9b632bd",
        "colab": {
          "base_uri": "https://localhost:8080/"
        },
        "outputId": "c18c0df2-349b-475e-bc45-3d6594089e4b"
      },
      "outputs": [
        {
          "output_type": "execute_result",
          "data": {
            "text/plain": [
              "array([[[ 1,  2],\n",
              "        [ 3,  4],\n",
              "        [ 5,  6]],\n",
              "\n",
              "       [[ 7,  8],\n",
              "        [ 9, 10],\n",
              "        [11, 12]]])"
            ]
          },
          "metadata": {},
          "execution_count": 13
        }
      ],
      "source": [
        "xx.reshape(2,3,2)"
      ]
    },
    {
      "cell_type": "markdown",
      "id": "539c16b1",
      "metadata": {
        "id": "539c16b1"
      },
      "source": [
        "# Q12: Join the given arrays below \n",
        "    arr1 = np.array([['A', 'B'], ['E', 'F']])\n",
        "    arr2 = np.array([['C', 'D'], ['G', 'H']])\n",
        "## Q12.1: Join the arrays without specifying the axis "
      ]
    },
    {
      "cell_type": "code",
      "source": [
        "arr1 = np.array([['A', 'B'], ['E', 'F']])\n",
        "arr2 = np.array([['C', 'D'], ['G', 'H']])"
      ],
      "metadata": {
        "id": "aqB5MI5BfIBQ"
      },
      "id": "aqB5MI5BfIBQ",
      "execution_count": 14,
      "outputs": []
    },
    {
      "cell_type": "code",
      "source": [
        "newArray = np.concatenate((arr1,arr2))\n",
        "newArray"
      ],
      "metadata": {
        "colab": {
          "base_uri": "https://localhost:8080/"
        },
        "id": "7CwQ3GOAfFfZ",
        "outputId": "15ca7937-bc1a-4173-d48f-51158122e376"
      },
      "id": "7CwQ3GOAfFfZ",
      "execution_count": 15,
      "outputs": [
        {
          "output_type": "execute_result",
          "data": {
            "text/plain": [
              "array([['A', 'B'],\n",
              "       ['E', 'F'],\n",
              "       ['C', 'D'],\n",
              "       ['G', 'H']], dtype='<U1')"
            ]
          },
          "metadata": {},
          "execution_count": 15
        }
      ]
    },
    {
      "cell_type": "markdown",
      "id": "1a37dd47",
      "metadata": {
        "id": "1a37dd47"
      },
      "source": [
        "# Q12.2: Join the arrays along rows with axis = 1 "
      ]
    },
    {
      "cell_type": "code",
      "execution_count": 16,
      "id": "b849658c",
      "metadata": {
        "id": "b849658c",
        "colab": {
          "base_uri": "https://localhost:8080/"
        },
        "outputId": "e2cf6b14-1954-4105-f9ab-3936d7983a4c"
      },
      "outputs": [
        {
          "output_type": "execute_result",
          "data": {
            "text/plain": [
              "array([['A', 'B', 'C', 'D'],\n",
              "       ['E', 'F', 'G', 'H']], dtype='<U1')"
            ]
          },
          "metadata": {},
          "execution_count": 16
        }
      ],
      "source": [
        "np.concatenate((arr1,arr2),axis=1)"
      ]
    },
    {
      "cell_type": "markdown",
      "id": "7296eecf",
      "metadata": {
        "id": "7296eecf"
      },
      "source": [
        "# Q13: Split the array into two arrays with axis = 1, each array should contain four arrays. \n",
        "Note: use the same array from Q12.1"
      ]
    },
    {
      "cell_type": "code",
      "execution_count": 17,
      "id": "7f7f5e49",
      "metadata": {
        "id": "7f7f5e49",
        "colab": {
          "base_uri": "https://localhost:8080/"
        },
        "outputId": "a436ab58-5953-464f-931b-d2f9b33521fb"
      },
      "outputs": [
        {
          "output_type": "stream",
          "name": "stdout",
          "text": [
            "[array([['A'],\n",
            "       ['E'],\n",
            "       ['C'],\n",
            "       ['G']], dtype='<U1'), array([['B'],\n",
            "       ['F'],\n",
            "       ['D'],\n",
            "       ['H']], dtype='<U1')]\n"
          ]
        }
      ],
      "source": [
        "qq= np.split(newArray,2,axis=1)\n",
        "print(qq)"
      ]
    }
  ],
  "metadata": {
    "kernelspec": {
      "display_name": "Python 3 (ipykernel)",
      "language": "python",
      "name": "python3"
    },
    "language_info": {
      "codemirror_mode": {
        "name": "ipython",
        "version": 3
      },
      "file_extension": ".py",
      "mimetype": "text/x-python",
      "name": "python",
      "nbconvert_exporter": "python",
      "pygments_lexer": "ipython3",
      "version": "3.9.12"
    },
    "colab": {
      "provenance": []
    }
  },
  "nbformat": 4,
  "nbformat_minor": 5
}